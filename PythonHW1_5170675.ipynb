{
 "cells": [
  {
   "cell_type": "markdown",
   "metadata": {},
   "source": [
    "# Python Homework 1\n",
    "\n",
    "**Release date:** Friday, April 3<br>\n",
    "**Due date:** Friday, April 17, at midnight via GauchoSpace\n",
    "\n",
    "**Instruction:** Please upload your jupyter notebook on GauchoSpace with filename __PythonHW1_YOURPERMNUMBER.ipynb__.\n"
   ]
  },
  {
   "cell_type": "markdown",
   "metadata": {},
   "source": [
    "Load some packages:"
   ]
  },
  {
   "cell_type": "code",
   "execution_count": 2,
   "metadata": {},
   "outputs": [],
   "source": [
    "import numpy as np\n",
    "import matplotlib.pyplot as plt\n",
    "from scipy.stats import poisson\n",
    "import math\n",
    "import statistics"
   ]
  },
  {
   "cell_type": "markdown",
   "metadata": {},
   "source": [
    "## Problem 1 (5 Points)\n",
    "\n",
    "1. Implement the simulation of a Poisson process $(N_t)_{0 \\leq t \\leq 100}$ with parameter $\\lambda = 0.1$ on the time interval $[0,100]$. "
   ]
  },
  {
   "cell_type": "code",
   "execution_count": 3,
   "metadata": {},
   "outputs": [
    {
     "data": {
      "text/plain": [
       "[0,\n",
       " 7.122734938891504,\n",
       " 9.471652080323874,\n",
       " 45.716471984574724,\n",
       " 54.477225450256014,\n",
       " 61.298444089845624,\n",
       " 68.88272124928002,\n",
       " 73.11864822682863,\n",
       " 79.151734009266,\n",
       " 84.66160595436668,\n",
       " 89.0609115461586,\n",
       " 91.53863774817098,\n",
       " 94.96563011533432,\n",
       " 100]"
      ]
     },
     "execution_count": 3,
     "metadata": {},
     "output_type": "execute_result"
    }
   ],
   "source": [
    "def poisProcess(lam,t):\n",
    "    arrival = [0]\n",
    "    count = 0\n",
    "    for i in arrival:\n",
    "        if i < t:\n",
    "            exp = np.random.exponential(1/lam)\n",
    "            lamt = arrival[count] + exp\n",
    "            if lamt > t:\n",
    "                lamt = t\n",
    "            arrival.append(lamt)\n",
    "            count = count + 1\n",
    "    return arrival\n",
    "poisProcess(.1,100)"
   ]
  },
  {
   "cell_type": "markdown",
   "metadata": {},
   "source": [
    "2. Plot a trajectory of your simulated process from part 1. "
   ]
  },
  {
   "cell_type": "code",
   "execution_count": 4,
   "metadata": {},
   "outputs": [
    {
     "data": {
      "text/plain": [
       "[<matplotlib.lines.Line2D at 0x1a0d20bb50>]"
      ]
     },
     "execution_count": 4,
     "metadata": {},
     "output_type": "execute_result"
    },
    {
     "data": {
      "image/png": "[encoded data removed]",
      "text/plain": [
       "<Figure size 432x288 with 1 Axes>"
      ]
     },
     "metadata": {
      "needs_background": "light"
     },
     "output_type": "display_data"
    }
   ],
   "source": [
    "np.random.seed(11)\n",
    "pois = poisProcess(.1,100)\n",
    "count = 0\n",
    "event = []\n",
    "for i in pois:\n",
    "    count += 1\n",
    "    event.append(count)\n",
    "plt.xlabel(\"Arrival time (t)\")\n",
    "plt.ylabel(\"Number of Events\")\n",
    "plt.hlines(event,pois[0:-1],pois[1:])\n",
    "plt.plot(pois,event, drawstyle = 'steps')"
   ]
  },
  {
   "cell_type": "markdown",
   "metadata": {},
   "source": [
    "## Problem 2 (5 Points)"
   ]
  },
  {
   "cell_type": "markdown",
   "metadata": {},
   "source": [
    "1. Simulate a __compound Poisson process__ $(C_t)_{0 \\leq t \\leq 30}$ (see __Lecture 4__) with parameter $\\lambda=1/2$ on the time interval $[0,30]$ where the jumps $Y_1, Y_2, \\ldots$ are given as random variables\n",
    "\n",
    "$$ Y_i = e^{Z_i} \\qquad (i = 1,2,\\ldots)$$\n",
    "\n",
    "with $Z_1, Z_2, \\ldots$ i.i.d. normally distributed random variables with mean 0 and variance 1 (also independent of the underlying Poisson process $(N_t)_{0 \\leq t \\leq 30}$). Plot a trajectory of your simulated process.\n",
    "\n",
    "*Hint*: Use your method from Problem 1 to simulate the underlying Poisson Process $(N_t)_{0 \\leq t \\leq 30}$ driving the compound Poisson process $(C_t)_{0 \\leq t \\leq 30}$."
   ]
  },
  {
   "cell_type": "code",
   "execution_count": 5,
   "metadata": {},
   "outputs": [
    {
     "name": "stdout",
     "output_type": "stream",
     "text": [
      "[[0, 0.23022935947849568, 4.717054438211195, 8.60903420169857, 8.969888788016505, 10.971049586482481, 11.012442209602652, 11.26070736717281, 12.02137638893292, 12.365118631574534, 15.210865936871702, 18.62139132262253, 19.46648514536838, 20.234280273352464, 20.471084499831193, 20.646460023906727, 23.14109720583209, 24.97139695292151, 25.08596394124954, 26.393037342075647, 27.42028468013686, 30], [0, 2.066284826205636, 6.773383066805563, 8.651143527609886, 9.72740478550431, 11.807203992354554, 12.333140178650392, 13.170004623400269, 13.733298074327362, 14.548454447141419, 15.163231802758466, 15.993691961282053, 16.67718663414445, 17.770242844347557, 18.835985261309204, 20.180922175618175, 24.247375170643622, 24.46029010386268, 28.113545227293763, 28.902338940540915, 29.193946543306772]]\n"
     ]
    },
    {
     "data": {
      "text/plain": [
       "<matplotlib.collections.LineCollection at 0x1a0f399750>"
      ]
     },
     "execution_count": 5,
     "metadata": {},
     "output_type": "execute_result"
    },
    {
     "data": {
      "image/png": "[encoded data removed]",
      "text/plain": [
       "<Figure size 432x288 with 1 Axes>"
      ]
     },
     "metadata": {
      "needs_background": "light"
     },
     "output_type": "display_data"
    }
   ],
   "source": [
    "def compPois(lam,t):\n",
    "    arrival = [0]\n",
    "    count = 0\n",
    "    for i in arrival:\n",
    "        if i < t:\n",
    "            exp = np.random.exponential(1/lam) #finding arrival times\n",
    "            lamt = arrival[count] + exp #the Ni value + exponential\n",
    "            if lamt > t: # t is the limit of time, x axis\n",
    "                lamt = t\n",
    "            arrival.append(lamt) \n",
    "            count = count + 1\n",
    "    e = 0\n",
    "    C = [0]\n",
    "    for i in range(1,count):\n",
    "        z = np.random.normal(0,1)\n",
    "        e = e + np.exp(z) #adding Ct values in order to have steps\n",
    "        C.append(e)\n",
    "    return [arrival,C]\n",
    "print(compPois(.5,30))\n",
    "comp = compPois(0.5,30)\n",
    "plt.title(\"Simulated Compound Poisson Process\")\n",
    "plt.xlabel(\"Time (t)\")\n",
    "plt.ylabel(\"Ct values\")\n",
    "plt.hlines(comp[1],comp[0],comp[0][1:])"
   ]
  },
  {
   "cell_type": "markdown",
   "metadata": {},
   "source": [
    "2. Simulate $M=10000$ times the compound Poisson process from part 1 and compute the empricial mean and variance of your samples for the random variable $C_{30}$. Compare your empricial values with the exact theoretical values which are given by\n",
    "\n",
    "$$\\mathbb{E}[C_{30}] = \\mathbb{E}[N_{30}] \\cdot \\mathbb{E}[Y_1] \\qquad \\text{and} \\qquad \\text{Var}(C_{30}) = \\mathbb{E}[N_{30}] \\cdot \\mathbb{E}[Y^2_1].$$\n",
    "\n",
    "*Hint*: Recall that \n",
    "$$\\mathbb{E}[e^{Z_1}] = e^{0.5} \\qquad \\text{and} \\qquad  \\mathbb{E}[(e^{Z_1})^2] = e^2.$$"
   ]
  },
  {
   "cell_type": "code",
   "execution_count": 7,
   "metadata": {},
   "outputs": [
    {
     "name": "stdout",
     "output_type": "stream",
     "text": [
      "Empirical Mean: 24.793024889146174 Theoretical Mean: 24.730819060501922\n",
      "Empirical Variance: 110.6736076602419 Theoretical Variance: 110.83584148395975\n"
     ]
    }
   ],
   "source": [
    "M = 10000\n",
    "C = []\n",
    "for i in range(M):\n",
    "    comp = compPois(0.5,30)\n",
    "    Clist = len(comp[1])-1\n",
    "    C.append(comp[1][Clist]) #compiling 10,000 instances of C30s\n",
    "mu = statistics.mean(C)\n",
    "var = statistics.variance(C)\n",
    "def theoMean(lam,t): \n",
    "    mean = lam*t*math.exp(.5)\n",
    "    return mean\n",
    "def theoVar(lam,t):\n",
    "    var = lam*t*math.exp(2)\n",
    "    return var\n",
    "\n",
    "print(\"Empirical Mean:\",mu,\"Theoretical Mean:\", theoMean(.5,30))\n",
    "print(\"Empirical Variance:\",var,\"Theoretical Variance:\", theoVar(.5,30))"
   ]
  },
  {
   "cell_type": "code",
   "execution_count": null,
   "metadata": {},
   "outputs": [],
   "source": []
  }
 ],
 "metadata": {
  "kernelspec": {
   "display_name": "Python 3",
   "language": "python",
   "name": "python3"
  },
  "language_info": {
   "codemirror_mode": {
    "name": "ipython",
    "version": 3
   },
   "file_extension": ".py",
   "mimetype": "text/x-python",
   "name": "python",
   "nbconvert_exporter": "python",
   "pygments_lexer": "ipython3",
   "version": "3.7.4"
  }
 },
 "nbformat": 4,
 "nbformat_minor": 2
}
