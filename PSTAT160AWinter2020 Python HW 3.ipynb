{
 "cells": [
  {
   "cell_type": "markdown",
   "metadata": {},
   "source": [
    "# Python Homework 3\n",
    "\n",
    "**Release date:** Monday, January 27th <br>\n",
    "**Due date:** Friday, __Feb 7th__, 11:59 p.m. via GauchoSpace\n",
    "\n",
    "**Instruction:** Please upload your pdf or html file on GauchoSpace with filename \"PythonHW3_YOURPERMNUMBER.ipynb\".\n"
   ]
  },
  {
   "cell_type": "markdown",
   "metadata": {},
   "source": [
    "In this Python Homework you are asked to implement two simulations related to problems discussed in class.\n"
   ]
  },
  {
   "cell_type": "markdown",
   "metadata": {},
   "source": [
    "As usual, start with loading some packages:"
   ]
  },
  {
   "cell_type": "code",
   "execution_count": 4,
   "metadata": {},
   "outputs": [],
   "source": [
    "import numpy as np"
   ]
  },
  {
   "cell_type": "markdown",
   "metadata": {},
   "source": [
    "## Problem 1 (5 Points)\n",
    "\n",
    "Since the beginning of Spring quarter Julie goes every day to Woodstock Pizza, orders a slice of pizza, and picks a topping - pepper, pepperoni, pineapple, prawns, or prosciutto - unifromly at random. "
   ]
  },
  {
   "cell_type": "markdown",
   "metadata": {},
   "source": [
    "1. Implement a simulator which uniformly samples from one topping:"
   ]
  },
  {
   "cell_type": "code",
   "execution_count": 9,
   "metadata": {},
   "outputs": [],
   "source": [
    "toppings = [\"pepper\",\"pepperoni\",\"pineapple\",\"prawns\",\"prosciutto\"]\n",
    "probability = [1/5,1/5,1/5,1/5,1/5] #each topping has the same probability\n",
    "def simulate():\n",
    "    choice = np.random.choice(toppings,p=probability) #randomly chooses from the 5 toppings with equal probability (uniform)\n",
    "    return choice"
   ]
  },
  {
   "cell_type": "markdown",
   "metadata": {},
   "source": [
    "2. On the day that Julie first picks pineapple, find the empricial mean of the number of prior days in which she picked pepperoni by running 10000 simulations.\n",
    "\n"
   ]
  },
  {
   "cell_type": "code",
   "execution_count": 11,
   "metadata": {},
   "outputs": [
    {
     "name": "stdout",
     "output_type": "stream",
     "text": [
      "The empirical mean is 1.0057\n"
     ]
    }
   ],
   "source": [
    "def pineapple_selected():\n",
    "    count = 0 # counts how many pepperoni there were\n",
    "    for i in range(10000):\n",
    "        choice = simulate() #runs simulate 10000 to get the count of pepperoni\n",
    "        while choice != \"pineapple\": #once pineapple shows up it stops\n",
    "            if choice == \"pepperoni\":\n",
    "                count += 1\n",
    "            choice = simulate()\n",
    "    emp_mean = count/10000\n",
    "    return emp_mean\n",
    "print(\"The empirical mean is\", pineapple_selected())\n",
    "    "
   ]
  },
  {
   "cell_type": "markdown",
   "metadata": {},
   "source": [
    "## Problem 2 (5 Points)\n",
    "\n",
    "Recall Problem 3.3:\n",
    "\n",
    "A health insurance will pay for a medical expense subject to a USD 100 deductible. Assume that the amount of the expense is exponentially distributed with mean USD 500.\n",
    "\n",
    "Compute the empirical mean and emprical standard deviation of the payout by the insurance company by using 100000 samples."
   ]
  },
  {
   "cell_type": "code",
   "execution_count": 32,
   "metadata": {},
   "outputs": [
    {
     "name": "stdout",
     "output_type": "stream",
     "text": [
      "The empirical mean is 500.50248686186126\n",
      "The empirical standard deviation is 500.3696504220173\n"
     ]
    }
   ],
   "source": [
    "exponential = np.random.exponential(scale=500, size=100000)\n",
    "for x in exponential:\n",
    "    if x > 100:\n",
    "        x - 100\n",
    "    if x < 100:\n",
    "        exponential\n",
    "emp_mean = sum(exponential)/100000\n",
    "emp_std = np.std(exponential)\n",
    "print(\"The empirical mean is\", emp_mean)\n",
    "print(\"The empirical standard deviation is\", emp_std)"
   ]
  }
 ],
 "metadata": {
  "kernelspec": {
   "display_name": "Python 3",
   "language": "python",
   "name": "python3"
  },
  "language_info": {
   "codemirror_mode": {
    "name": "ipython",
    "version": 3
   },
   "file_extension": ".py",
   "mimetype": "text/x-python",
   "name": "python",
   "nbconvert_exporter": "python",
   "pygments_lexer": "ipython3",
   "version": "3.7.4"
  }
 },
 "nbformat": 4,
 "nbformat_minor": 2
}
