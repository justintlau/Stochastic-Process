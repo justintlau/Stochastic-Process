{
 "cells": [
  {
   "cell_type": "markdown",
   "metadata": {},
   "source": [
    "# Python Homework 4\n",
    "\n",
    "**Release date:** Sunday, May 24<br>\n",
    "**Due date:** Friday, June 5, at midnight via <font color=\"blue\">Gradescope</font> \n",
    "\n",
    "**Instruction:** Please upload your jupyter notebook on <font color=\"blue\">Gradescope</font> with filename __PythonHW4_YOURPERMNUMBER.ipynb__.\n"
   ]
  },
  {
   "cell_type": "markdown",
   "metadata": {},
   "source": [
    "__Background__: Let $(B_t)_{t\\geq 0}$ denote a standard Brownian motion. A so-called __stochastic differential equation (SDE)__ is an equation of the form\n",
    "\n",
    "\\begin{equation}\n",
    "    dX_t = b(X_t) \\, dt + \\sigma(X_t) \\, dB_t, \\quad X_0 = x,\n",
    "\\end{equation}\n",
    "  \n",
    "with starting value $x \\in \\mathbb{R}$ and two (deterministic) functions $b: \\mathbb{R} \\rightarrow \\mathbb{R}$, $\\sigma: \\mathbb{R} \\rightarrow \\mathbb{R}$ which are given.\n",
    "  \n",
    "The \"differential form\" in above SDE is just a shorthand notation. More precisely, solving the SDE means to find a stochastic process $(X_t)_{t \\geq 0}$ which satisfies the __integral equation__\n",
    "\n",
    "\\begin{equation}\n",
    "    X_t = x + \\int_0^t b(X_s) \\, ds + \\int_0^t \\sigma(X_s) \\, dB_s \\quad (t \\geq 0).\n",
    "\\end{equation}\n",
    "\n",
    "Note that the process $(X_t)_{t \\geq 0}$ appears on both sides of this equation. The first term \n",
    "\n",
    "\\begin{equation}\n",
    "    \\int_0^t b(X_s) \\, ds \\quad (t \\geq 0)\n",
    "\\end{equation}\n",
    "\n",
    "can be thought of as just integrating the (random) function $s \\mapsto b(X_s)$ over the interval $[0,t]$. However, the second term\n",
    "\n",
    "\\begin{equation}\n",
    "    \\int_0^t \\sigma(X_s) \\, dB_s \\quad (t \\geq 0)\n",
    "\\end{equation}\n",
    "\n",
    "is called a __stochastic integral__ of the (random) function $s \\mapsto \\sigma(X_s)$ with respect to Brownian motion $(B_s)_{0 \\leq s \\leq t}$ over the interval $[0,t]$. Of course, one has to make sense of this and we will discuss this a bit in Chapter 5 \"Introduction to Stochastic Calculus\" in Week 10.\n"
   ]
  },
  {
   "cell_type": "markdown",
   "metadata": {},
   "source": [
    "__Numerical Approximation of an SDE (Euler-Maruyama Method):__\n",
    "\n",
    "The differential form of a stochastic differential equation lends itself to an intuitive method for simulating the solution process $(X_t)_{t\\geq 0}$. Given the SDE\n",
    "\n",
    "\\begin{equation}\n",
    "    dX_t = b(X_t) \\, dt + \\sigma(X_t) \\, dB_t, \\quad X_0 = x,\n",
    "\\end{equation}\n",
    "\n",
    "the *Euler-Maruyama* method generates a discrete sequence $X_0, X_1, \\ldots, X_n$, which approximates the process $(X_t)_{0 \\leq t\\leq T}$ on an interval $[0,T]$.\n",
    "\n",
    "The idea is to partition the interval $[0,T]$ into $n$ equally spaced points\n",
    "\n",
    "\\begin{equation}\n",
    "    0 = t_0 < t_1 < t_2 < \\cdots < t_{n-1} < t_n = T\n",
    "\\end{equation}\n",
    "\n",
    "where $t_i = i \\cdot T/n$ for $i=0,1,\\ldots,n$, and to *discretize* the SDE via\n",
    "\n",
    "\\begin{equation}\n",
    "    X_{t_0} = x, \\quad X_{t_{i+1}} = X_{t_i} + b(X_{t_i}) \\cdot (t_{i+1} - t_{i}) + \\sigma(X_{t_i}) \\cdot (B_{t_{i+1}} - B_{t_{i}}) \\quad (i=0,1,\\ldots,n-1).\n",
    "\\end{equation}\n",
    "\n",
    "Note that in the SDE the differential $dX_{t_{i+1}}$ is approximated by $X_{t_{i+1}}-X_{t_i}$, $dt_{i+1}$ is approximated by $t_{i+1} - t_i$ and the stochastic differential $dB_{t_{i+1}}$ is approximated by the increment of the Brownian motion $B_{t_{i+1}} - B_{t_{i}}$. \n",
    "\n",
    "Above scheme defines recursively a sequence $X_{t_0}, X_{t_1},\\ldots,X_{t_n}$ which gives a *discretized approximate sample path* for $(X_t)_{0 \\leq t\\leq T}$. If $n$ is very large the approximation will be sufficiently good.\n"
   ]
  },
  {
   "cell_type": "markdown",
   "metadata": {},
   "source": [
    "Load some packages:"
   ]
  },
  {
   "cell_type": "code",
   "execution_count": 2,
   "metadata": {},
   "outputs": [],
   "source": [
    "import numpy as np\n",
    "import matplotlib.pyplot as plt"
   ]
  },
  {
   "cell_type": "markdown",
   "metadata": {},
   "source": [
    "## Problem 1 (20 Points)\n",
    "\n",
    "1. Simulate the solution $(X_t)_{0 \\leq t \\leq T}$ of the SDE\n",
    "\n",
    "\\begin{equation}\n",
    "    dX_t = -r \\cdot (X_t - \\mu) \\, dt + \\sigma \\, dB_t \\quad (0 \\leq t \\leq T), \\quad X_0 = 1,\n",
    "\\end{equation}\n",
    "\n",
    "by using the Euler-Maruyama method. Choose $r=0.5$, $\\mu=-1$, $\\sigma = 0.1$, $T=10$ and $n = 1000$. "
   ]
  },
  {
   "cell_type": "code",
   "execution_count": 129,
   "metadata": {},
   "outputs": [
    {
     "name": "stdout",
     "output_type": "stream",
     "text": [
      "-0.9992757584963069\n"
     ]
    }
   ],
   "source": [
    "X0 = 1\n",
    "r = 0.5\n",
    "Mu = -1\n",
    "Sigma = 0.1\n",
    "T = 10\n",
    "n = 1000\n",
    "dt = 1/n \n",
    "\n",
    "t = np.arange(0,1, dt);\n",
    "d = np.sqrt(dt)*np.random.randn(n);\n",
    "D = np.cumsum(d);\n",
    "\n",
    "Xtrue = X0*np.exp(((Mu - 0.5*Sigma**2)*t[1:])+(Sigma*D[:-1])) \n",
    "\n",
    "\n",
    "Dt = r*dt\n",
    "N = int(n/r) \n",
    "Xem = np.zeros(N)\n",
    "Xt = X0;\n",
    "\n",
    "\n",
    "for i in range(N):\n",
    "    x = int(r*(i-1))\n",
    "    y = int(r*i)\n",
    "    Xt = Xt + Dt*Mu*Xt + Sigma*Xt*np.sum(d[x:y]);\n",
    "    Xem[i] = Xt\n",
    "\n",
    "sde = np.abs(Xem[-1]-Xtrue[-1]) -1\n",
    "print(sde)\n"
   ]
  },
  {
   "cell_type": "markdown",
   "metadata": {},
   "source": [
    "2. Use your code from 1.) to plot a discretized approximate sample path (realization) of $(X_t)_{0 \\leq t \\leq 10}$ on $[0,10]$."
   ]
  },
  {
   "cell_type": "code",
   "execution_count": 133,
   "metadata": {},
   "outputs": [
    {
     "data": {
      "image/png": "[encoded data removed]",
      "text/plain": [
       "<Figure size 432x288 with 1 Axes>"
      ]
     },
     "metadata": {
      "needs_background": "light"
     },
     "output_type": "display_data"
    }
   ],
   "source": [
    "EM = plt.plot(np.arange(0.0, 10, r*(T/n)), Xem, label=\"Euler-Maruyama\")\n",
    "plt.legend(handles=EM);\n"
   ]
  },
  {
   "cell_type": "markdown",
   "metadata": {},
   "source": [
    "3. Approximate the mean $\\mathbb{E}[X_{10}]$ of $X_{10}$ by running 10000 simulations with your code from 1.)"
   ]
  },
  {
   "cell_type": "code",
   "execution_count": 140,
   "metadata": {},
   "outputs": [
    {
     "name": "stdout",
     "output_type": "stream",
     "text": [
      "-0.98653782827484\n"
     ]
    }
   ],
   "source": [
    "def SDE(X0, r, Mu, Sigma, n):\n",
    "    dt = 1/n \n",
    "    \n",
    "    t = np.arange(0.0,1, dt);\n",
    "    d = np.sqrt(dt)*np.random.randn(n);\n",
    "    D = np.cumsum(d);\n",
    "    \n",
    "    Xtrue = X0*np.exp(((Mu - 0.5*Sigma**2)*t[1:])+(Sigma*D[:-1])) \n",
    "    \n",
    "    Dt = r*dt\n",
    "    N = int(n/r) \n",
    "    Xem = np.zeros(N)\n",
    "    Xt = X0;\n",
    "     \n",
    "    for i in range(N):\n",
    "        x = int(r*(i-1))\n",
    "        y = int(r*i)\n",
    "        Xt = Xt + Dt*Mu*Xt + Sigma*Xt*np.sum(d[x:y]);\n",
    "        Xem[i] = Xt\n",
    "    \n",
    "    sde = np.abs(Xem[-1]-Xtrue[-1]) -1\n",
    "    return sde\n",
    "\n",
    "count = []\n",
    "for i in range(10000):\n",
    "    x = SDE(1, 0.5, -1, 0.1, 1000)\n",
    "    count.append(x)\n",
    "import statistics\n",
    "statistics.mean(count)\n"
   ]
  },
  {
   "cell_type": "code",
   "execution_count": null,
   "metadata": {},
   "outputs": [],
   "source": []
  }
 ],
 "metadata": {
  "kernelspec": {
   "display_name": "Python 3",
   "language": "python",
   "name": "python3"
  },
  "language_info": {
   "codemirror_mode": {
    "name": "ipython",
    "version": 3
   },
   "file_extension": ".py",
   "mimetype": "text/x-python",
   "name": "python",
   "nbconvert_exporter": "python",
   "pygments_lexer": "ipython3",
   "version": "3.7.4"
  }
 },
 "nbformat": 4,
 "nbformat_minor": 2
}
