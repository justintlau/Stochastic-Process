{
 "cells": [
  {
   "cell_type": "markdown",
   "metadata": {},
   "source": [
    "# Python Homework 2\n",
    "\n",
    "**Release date:** Saturday, April 18<br>\n",
    "**Due date:** Friday, __May 8 (!)__, at midnight via <font color=\"blue\">Gradescope</font> \n",
    "\n",
    "**Instruction:** Please upload your jupyter notebook on <font color=\"blue\">Gradescope</font> with filename __PythonHW2_YOURPERMNUMBER.ipynb__.\n"
   ]
  },
  {
   "cell_type": "markdown",
   "metadata": {},
   "source": [
    "Load some packages:"
   ]
  },
  {
   "cell_type": "code",
   "execution_count": 1,
   "metadata": {},
   "outputs": [],
   "source": [
    "import numpy as np\n",
    "import matplotlib.pyplot as plt\n",
    "from scipy import linalg\n",
    "import math\n",
    "import statistics\n",
    "# LOAD MORE PACKAGES IF NEEDED"
   ]
  },
  {
   "cell_type": "markdown",
   "metadata": {},
   "source": [
    "## Problem 1 (10 Points)\n",
    "\n",
    "Consider the continuous-time __Registration Line Markov Chain__ from Example 2.13 (Lecture 7).\n",
    "\n",
    "1. Implement a simulation of this Markov chain on the time interval $[0,60]$. "
   ]
  },
  {
   "cell_type": "code",
   "execution_count": 2,
   "metadata": {},
   "outputs": [
    {
     "data": {
      "text/plain": [
       "(array([0, 1, 2, 3, 2, 3, 4, 3, 4, 3, 4, 3]),\n",
       " array([ 0.        ,  7.83284143, 20.29600242, 20.72227656, 25.26083272,\n",
       "        29.60858578, 34.47428571, 38.92497958, 44.74084867, 56.83129584,\n",
       "        59.30316085, 62.31072933]))"
      ]
     },
     "execution_count": 2,
     "metadata": {},
     "output_type": "execute_result"
    }
   ],
   "source": [
    "def markovChain():\n",
    "    time = 0\n",
    "    people_in_line = 0\n",
    "    time_list = [0]\n",
    "    line_list = [0]\n",
    "    while time < 60:\n",
    "        if people_in_line == 0: #ensures if the line has 0 students, it cannot go negative\n",
    "            time += np.random.exponential(4) #waiting time for a student to arrive\n",
    "            people_in_line = 1\n",
    "            line_list.append(people_in_line)\n",
    "        elif people_in_line > 0 and people_in_line < 4:\n",
    "            if np.random.exponential(4) < np.random.exponential(5): #if a student arrives before the registrar finishes\n",
    "                time += np.random.exponential(4) #waiting time of the prob of ^ happening\n",
    "                people_in_line += 1\n",
    "                line_list.append(people_in_line)\n",
    "            else:\n",
    "                time += np.random.exponential(5) #waiting time of registrar finishing before a student arrives\n",
    "                people_in_line -= 1\n",
    "                line_list.append(people_in_line)\n",
    "        elif people_in_line == 4: #ensures if the line has 4 people, no more can join\n",
    "            time += np.random.exponential(5)\n",
    "            people_in_line = 3\n",
    "            line_list.append(people_in_line)\n",
    "        time_list.append(time)\n",
    "    line = np.array(line_list)\n",
    "    time = np.array(time_list)\n",
    "    return(line,time)\n",
    "\n",
    "np.random.seed(32)\n",
    "markovChain()"
   ]
  },
  {
   "cell_type": "markdown",
   "metadata": {},
   "source": [
    "2. Plot a trajectory of this Markov Chain on $[0,60]$ by using your code from 1.\n",
    "\n",
    "<i>Hint:</i> You can use the <tt>plt.hlines()</tt> command to plot horizontal lines (check also the documentation online)."
   ]
  },
  {
   "cell_type": "code",
   "execution_count": 3,
   "metadata": {},
   "outputs": [
    {
     "data": {
      "text/plain": [
       "<matplotlib.collections.LineCollection at 0x1139c0f90>"
      ]
     },
     "execution_count": 3,
     "metadata": {},
     "output_type": "execute_result"
    },
    {
     "data": {
      "image/png": "[encoded data removed]",
      "text/plain": [
       "<Figure size 720x360 with 1 Axes>"
      ]
     },
     "metadata": {
      "needs_background": "light"
     },
     "output_type": "display_data"
    }
   ],
   "source": [
    "np.random.seed(32)\n",
    "instances = markovChain()\n",
    "\n",
    "plt.figure(figsize=(10,5))\n",
    "plt.title('Registration Line')\n",
    "plt.xlabel('# of Students in line')\n",
    "plt.ylabel('Arrival Time')\n",
    "plt.plot(instances[1],instances[0], drawstyle = 'steps-post')\n",
    "plt.hlines(instances[0],instances[1][0:-1],instances[1][1:])"
   ]
  },
  {
   "cell_type": "markdown",
   "metadata": {},
   "source": [
    "3. Compute the transition function $P(t)$ at $t = \\pi$.\n",
    "\n",
    "*Hint:* Use a suitable function from the <tt>scipy.linalg</tt> package (check also the documentation online)."
   ]
  },
  {
   "cell_type": "code",
   "execution_count": 184,
   "metadata": {},
   "outputs": [
    {
     "name": "stdout",
     "output_type": "stream",
     "text": [
      "[[0.55524989 0.308565   0.10512926 0.02554735 0.00550851]\n",
      " [0.246852   0.3925013  0.24489947 0.08909819 0.02664905]\n",
      " [0.06728272 0.19591958 0.37967644 0.24578083 0.11134043]\n",
      " [0.01308024 0.05702284 0.19662467 0.39747023 0.33580202]\n",
      " [0.00225628 0.01364431 0.07125787 0.26864162 0.64419991]]\n",
      "[-0.4472136 -0.4472136 -0.4472136 -0.4472136 -0.4472136]\n"
     ]
    },
    {
     "data": {
      "text/plain": [
       "'\\nprint(\"Eigenvalues are:\",\\'\\n\\',v,\\'\\n\\')\\nprint(\"Eigenvectors are:\",\\'\\n\\',p,\\'\\n\\')\\nprint(\"Eigenvector for 0 is:\",\\'\\n\\',eigenvector0,\\'\\n\\')\\nprint(\"P(t) at t=pi is:\",\\'\\n\\',[1/5,1/5,1/5,1/5,1/5])\\n'"
      ]
     },
     "execution_count": 184,
     "metadata": {},
     "output_type": "execute_result"
    }
   ],
   "source": [
    "Q = np.matrix([[-1/4,1/4,0,0,0],\n",
    "                [1/5,-9/20,1/4,0,0],\n",
    "                [0,1/5,-9/20,1/4,0],\n",
    "                [0,0,1/5,-9/20,1/4],\n",
    "                [0,0,0,1/5,-1/5]])\n",
    "\n",
    "Pt = scipy.linalg.expm(Q*math.pi) #from lectures P(t)= e^(Qt) and pi = t\n",
    "print(Pt)\n"
   ]
  },
  {
   "cell_type": "markdown",
   "metadata": {},
   "source": [
    "4. Compute the stationary distribution of this continuous-time Markov chain.\n",
    "\n",
    "*Hint:* Use suitable functions from the <tt>numpy.linalg package</tt> (check also the documentation online)."
   ]
  },
  {
   "cell_type": "code",
   "execution_count": 223,
   "metadata": {},
   "outputs": [
    {
     "name": "stdout",
     "output_type": "stream",
     "text": [
      "The stationaty distribution is: \n",
      " [[0.12184674]\n",
      " [0.15230842]\n",
      " [0.19038553]\n",
      " [0.23798191]\n",
      " [0.29747739]] \n",
      "\n",
      "The sum of the stationary distribution is: [[1.]]\n"
     ]
    }
   ],
   "source": [
    "v,p = np.linalg.eig(Q.T) #eigenvalues and vectors from Q transposed\n",
    "eig = p[:,3] #the eigenvector from the eigenvalue = 0\n",
    "Normalize = eig/sum(eig) #Normalizing pi so that when added together they equal 1\n",
    "print(\"The stationaty distribution is:\",'\\n',Normalize,'\\n')\n",
    "print(\"The sum of the stationary distribution is:\",sum(Normalize)) #checking that it equals 1"
   ]
  },
  {
   "cell_type": "markdown",
   "metadata": {},
   "source": [
    "## Problem 2 (10 Points)\n",
    "\n",
    "Multistate Markov models are used in medicine to model the course of diseases. A patient may advance into, or recover from, successively more severe stages of a disease until some terminal state. Each stage represents a state of an absorbing continuous-time Markov chain. \n",
    "\n",
    "Bartolomeo et al. (2011) develop such a model to study the progression of liver disease among patients diagnosed with cirrhosis of the liver. The general form of the infinitesimal generator matrix $Q$ for their three-parameter model is\n",
    "\n",
    "$$ Q = \\begin{pmatrix} -(q_{12} + q_{13}) & q_{12} & q_{13} \\\\ 0 & -q_{23} & q_{23} \\\\ 0 & 0 & 0 \\end{pmatrix}  $$\n",
    "\n",
    "where state 1 represents cirrhosis, state 2 denotes liver cancer, and state 3 is death."
   ]
  },
  {
   "cell_type": "markdown",
   "metadata": {},
   "source": [
    "1. Starting from the first stage (\"cirrhosis\"), estimate the mean time to death (i.e. ending up in stage 3) by running 100,000 simulations. Use the transition rates\n",
    "\n",
    "$$ q_{12} = 0.0151, \\quad q_{13} = 0.0071, \\quad q_{23} = 0.0284.$$"
   ]
  },
  {
   "cell_type": "code",
   "execution_count": 222,
   "metadata": {},
   "outputs": [
    {
     "name": "stdout",
     "output_type": "stream",
     "text": [
      "The mean time to death is: 69.83010381853697 months.\n"
     ]
    }
   ],
   "source": [
    "q12 = 0.0151\n",
    "q13 = 0.0071\n",
    "q23 = 0.0284\n",
    "\n",
    "def liver():\n",
    "    time_list = []\n",
    "    for simulation in range(100000):\n",
    "        time = 0\n",
    "        liver_disease = 1\n",
    "        while liver_disease != 3: #when liver disease is not at stage 3 loop through\n",
    "            if liver_disease == 1: \n",
    "                if np.random.exponential(1/q12) < np.random.exponential(1/q13): #if you go to stage 2 before stage 3\n",
    "                    time += np.random.exponential((q12+q13)/q12) #waiting time of prob of going to stage 2 before 3\n",
    "                    liver_disease = 2\n",
    "                else:\n",
    "                    time += np.random.exponential(1/q13) #time to go from stage 1 directly to stage 3\n",
    "                    break #end loop\n",
    "            if liver_disease == 2:\n",
    "                time += np.random.exponential(1/q23) #time spent going from stage 2 to stage 3\n",
    "                liver_disease = 3\n",
    "        time_list.append(time) # append to a list to get all 100,000 instances\n",
    "    time = np.array(time_list)\n",
    "    return(time)\n",
    "time = liver()\n",
    "print(\"The mean time to death is:\",statistics.mean(time), 'months.') #finds mean of 100,000 simulations"
   ]
  },
  {
   "cell_type": "markdown",
   "metadata": {},
   "source": [
    "2. Compare your approximation from 1. with the exact theoretical mean time to death (implement a suitable formula from class).  "
   ]
  },
  {
   "cell_type": "code",
   "execution_count": 175,
   "metadata": {},
   "outputs": [
    {
     "name": "stdout",
     "output_type": "stream",
     "text": [
      "The theoretical mean time of death is: 68.99505138941758\n",
      "The simulated mean time of death is: 69.96898792705043\n"
     ]
    }
   ],
   "source": [
    "V = np.matrix([[-(q12+q13),q12],\n",
    "               [0,-q23]])\n",
    "a1 = (1/(q12+q13))+q12/(q23*(q12+q13))\n",
    "print(\"The theoretical mean time of death is:\",a1)\n",
    "print(\"The simulated mean time of death is:\",statistics.mean(time))"
   ]
  },
  {
   "cell_type": "code",
   "execution_count": null,
   "metadata": {},
   "outputs": [],
   "source": []
  }
 ],
 "metadata": {
  "kernelspec": {
   "display_name": "Python 3",
   "language": "python",
   "name": "python3"
  },
  "language_info": {
   "codemirror_mode": {
    "name": "ipython",
    "version": 3
   },
   "file_extension": ".py",
   "mimetype": "text/x-python",
   "name": "python",
   "nbconvert_exporter": "python",
   "pygments_lexer": "ipython3",
   "version": "3.7.4"
  }
 },
 "nbformat": 4,
 "nbformat_minor": 2
}
