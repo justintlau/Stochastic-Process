{
 "cells": [
  {
   "cell_type": "markdown",
   "metadata": {},
   "source": [
    "# Python Homework 1\n",
    "\n",
    "**Release date:** Friday, January 10th <br>\n",
    "**Due date:** Friday, January 24th, 11:59 p.m. via GauchoSpace\n",
    "\n",
    "**Instruction:** Please upload your pdf or html file with your code and result on GauchoSpace with filename \"PythonHW1_YOURPERMNUMBER\".\n"
   ]
  },
  {
   "cell_type": "markdown",
   "metadata": {},
   "source": [
    "The purpose of this Python Homework is to get a little bit familiar with sampling from a distribution with the __NumPy Package__.\n",
    "\n",
    "_Attention:_ Don't forget to import the necessary packages!"
   ]
  },
  {
   "cell_type": "markdown",
   "metadata": {},
   "source": [
    "## Problem 1 (6 Points)"
   ]
  },
  {
   "cell_type": "code",
   "execution_count": 9,
   "metadata": {},
   "outputs": [],
   "source": [
    "import numpy, numpy.random\n",
    "import time"
   ]
  },
  {
   "cell_type": "markdown",
   "metadata": {},
   "source": [
    "1. Simulate 100,000 realizations from the binomial distribution with $N$=1000 trails and success probability $p$=0.3."
   ]
  },
  {
   "cell_type": "code",
   "execution_count": 10,
   "metadata": {
    "scrolled": true
   },
   "outputs": [
    {
     "data": {
      "text/plain": [
       "array([282, 310, 310, ..., 334, 303, 298])"
      ]
     },
     "execution_count": 10,
     "metadata": {},
     "output_type": "execute_result"
    }
   ],
   "source": [
    "N = 1000\n",
    "p = 0.3\n",
    "z = numpy.random.binomial(N, p, size = 100000)\n",
    "z"
   ]
  },
  {
   "cell_type": "markdown",
   "metadata": {},
   "source": [
    "2. Compute the empirical mean and the empricial standard deviation of your sample and compare these values with the theoretical values."
   ]
  },
  {
   "cell_type": "code",
   "execution_count": 11,
   "metadata": {},
   "outputs": [
    {
     "name": "stdout",
     "output_type": "stream",
     "text": [
      "Empirical mean =  300.01715\n",
      "Empirical std =  14.515634187919591\n",
      "Theoretical mean =  300.0\n",
      "Theoretical std =  14.491376746189438\n"
     ]
    }
   ],
   "source": [
    "x = numpy.mean(z)\n",
    "y = numpy.std(z)\n",
    "print(\"Empirical mean = \",x)\n",
    "print(\"Empirical std = \",y)\n",
    "print(\"Theoretical mean = \",N*p)\n",
    "print(\"Theoretical std = \",numpy.sqrt(N*p*(1-p)))\n",
    "# The Empirical values, i.e mean and std, are very close to the theoretical values since the sample size is large enough"
   ]
  },
  {
   "cell_type": "markdown",
   "metadata": {},
   "source": [
    "3. Plot a histogram of your sample with the absolute number of counts for each bin. Choose 25 bins."
   ]
  },
  {
   "cell_type": "code",
   "execution_count": 12,
   "metadata": {},
   "outputs": [
    {
     "data": {
      "text/plain": [
       "Text(0, 0.5, '# of trials')"
      ]
     },
     "execution_count": 12,
     "metadata": {},
     "output_type": "execute_result"
    },
    {
     "data": {
      "image/png": "[encoded data removed]",
      "text/plain": [
       "<Figure size 432x288 with 1 Axes>"
      ]
     },
     "metadata": {
      "needs_background": "light"
     },
     "output_type": "display_data"
    }
   ],
   "source": [
    "import matplotlib\n",
    "from matplotlib import pyplot as pyl\n",
    "pyl.hist(z, bins=25, color = \"purple\")\n",
    "pyl.title(\"Histogram with 25 bins\")\n",
    "pyl.xlabel(\"# of Success\")\n",
    "pyl.ylabel(\"# of trials\")\n",
    "# Histogram shows how many of the 100,000 trials had X amount of success out of 1,000"
   ]
  },
  {
   "cell_type": "markdown",
   "metadata": {},
   "source": [
    "4. Standardize your sample, that is, subtract the emprical mean and divide by the empricial standard deviation."
   ]
  },
  {
   "cell_type": "code",
   "execution_count": 13,
   "metadata": {},
   "outputs": [],
   "source": [
    "plot = []\n",
    "for i in range(0,len(z)):\n",
    "    plot.append((z[i] - x)/y)\n"
   ]
  },
  {
   "cell_type": "markdown",
   "metadata": {},
   "source": [
    "5. Plot a histogram of your standardized sample with the counts normalized to form a probability density. Choose again 25 bins. Compare your histrogram with the density of the standard normal distribution by inserting its density into the histogram plot. "
   ]
  },
  {
   "cell_type": "code",
   "execution_count": 14,
   "metadata": {},
   "outputs": [
    {
     "data": {
      "image/png": "[encoded data removed]",
      "text/plain": [
       "<Figure size 432x288 with 1 Axes>"
      ]
     },
     "metadata": {
      "needs_background": "light"
     },
     "output_type": "display_data"
    }
   ],
   "source": [
    "Graph = pyl.hist(plot, 25, color = \"blue\",density = True,label=\"Standardized Sample\")\n",
    "standard = numpy.random.standard_normal(100000)\n",
    "Graph = pyl.hist(standard, 25,density = True, color = \"red\",label=\"Standard Normal\")\n",
    "pyl.xlabel(\"Standard Deviation\")\n",
    "pyl.ylabel(\"Normalized Counts\")\n",
    "pyl.title(\"Histogram of Standrd Normal\")\n",
    "pyl.legend()\n",
    "pyl.show()\n"
   ]
  },
  {
   "cell_type": "markdown",
   "metadata": {},
   "source": [
    "## Problem 2 (4 Points)"
   ]
  },
  {
   "cell_type": "markdown",
   "metadata": {},
   "source": [
    "1. Implement the simulation of a biased 6-sided die which takes the values 1,2,3,4,5,6 with probabilities 1/8,1/12,1/8,1/12,1/12,1/2."
   ]
  },
  {
   "cell_type": "code",
   "execution_count": 15,
   "metadata": {},
   "outputs": [
    {
     "data": {
      "text/plain": [
       "6"
      ]
     },
     "execution_count": 15,
     "metadata": {},
     "output_type": "execute_result"
    }
   ],
   "source": [
    "numbers = [1,2,3,4,5,6]\n",
    "probability = [1/8,1/12,1/8,1/12,1/12,1/2]\n",
    "Roll = numpy.random.choice(numbers,p=probability)\n",
    "Roll"
   ]
  },
  {
   "cell_type": "markdown",
   "metadata": {},
   "source": [
    "2. Plot a histrogramm with 1,000,000 simulations to check if the relative counts of each number is approximately equal to the corresponding specified probabilities.\n",
    "\n",
    "_Remark:_ Specify the bins of your histogram correctly."
   ]
  },
  {
   "cell_type": "code",
   "execution_count": 18,
   "metadata": {},
   "outputs": [
    {
     "name": "stdout",
     "output_type": "stream",
     "text": [
      "The probabilites of each dice roll is: [0.124619, 0.083212, 0.124885, 0.083559, 0.082971, 0.500754]\n"
     ]
    },
    {
     "data": {
      "image/png": "[encoded data removed]",
      "text/plain": [
       "<Figure size 432x288 with 1 Axes>"
      ]
     },
     "metadata": {
      "needs_background": "light"
     },
     "output_type": "display_data"
    }
   ],
   "source": [
    "Simulations = 1000000\n",
    "Rolls = list(numpy.random.choice(numbers,Simulations,p=probability))  \n",
    "count1= 0\n",
    "count2= 0\n",
    "count3= 0\n",
    "count4= 0\n",
    "count5= 0\n",
    "count6= 0\n",
    "for x in Rolls:\n",
    "    if x == 1:\n",
    "        count1 += 1\n",
    "    if x == 2:\n",
    "        count2 += 1\n",
    "    if x == 3:\n",
    "        count3 += 1\n",
    "    if x == 4:\n",
    "        count4 += 1\n",
    "    if x == 5:\n",
    "        count5 += 1\n",
    "    if x == 6:\n",
    "        count6 += 1\n",
    "List = [count1,count2,count3,count4,count5,count6]\n",
    "Probability = []\n",
    "for y in List:\n",
    "    Probability.append(y/Simulations)\n",
    "Probability\n",
    "print(\"The probabilites of each dice roll is:\", Probability)\n",
    "Dice_hist = pyl.hist(Rolls, bins=11, color=\"blue\")\n",
    "pyl.xlabel(\"Number Rolled\")\n",
    "pyl.ylabel(\"# of occurences\")\n",
    "pyl.title(\"Histogram of Dice Rolls\")\n",
    "pyl.show()\n"
   ]
  },
  {
   "cell_type": "code",
   "execution_count": null,
   "metadata": {},
   "outputs": [],
   "source": []
  }
 ],
 "metadata": {
  "kernelspec": {
   "display_name": "Python 3",
   "language": "python",
   "name": "python3"
  },
  "language_info": {
   "codemirror_mode": {
    "name": "ipython",
    "version": 3
   },
   "file_extension": ".py",
   "mimetype": "text/x-python",
   "name": "python",
   "nbconvert_exporter": "python",
   "pygments_lexer": "ipython3",
   "version": "3.7.4"
  }
 },
 "nbformat": 4,
 "nbformat_minor": 2
}
